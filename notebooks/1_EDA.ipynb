{
 "cells": [
  {
   "cell_type": "markdown",
   "id": "56f7df56-8d19-4a94-849c-0f17c0d0208e",
   "metadata": {},
   "source": [
    "# About"
   ]
  },
  {
   "cell_type": "markdown",
   "id": "2fca0c22-677d-4724-bf72-45851ffaec45",
   "metadata": {},
   "source": [
    "This research compares two different classification methodologies.\n",
    "It will initially attempt to replicate the methodology used by FieldPlant research. This appears to be a multiclass classification methodology, as it uses a softmax activation function, which would select the most likely disease present in the image, but would fail to detect if moe than one disease was present.\n",
    "\n",
    "The second methodology is to use a multilabel classification methodology, as this should be more appropriate for this dataset, as there are several images which contain more than 1 disease type."
   ]
  },
  {
   "cell_type": "markdown",
   "id": "f61ef3d7-2b74-4431-8df9-a3a5de943272",
   "metadata": {},
   "source": [
    "# Import required libraries"
   ]
  },
  {
   "cell_type": "code",
   "execution_count": 70,
   "id": "94fac816-d21c-4e5c-87df-ad2e5bbf5179",
   "metadata": {},
   "outputs": [],
   "source": [
    "import kagglehub\n",
    "import pandas as pd\n",
    "import numpy as np\n",
    "from pathlib import Path\n",
    "import matplotlib.pyplot as plt"
   ]
  },
  {
   "cell_type": "markdown",
   "id": "8bfc5e24-5f70-472a-bfe3-9665c4b37299",
   "metadata": {},
   "source": [
    "# Download Dataset"
   ]
  },
  {
   "cell_type": "code",
   "execution_count": 71,
   "id": "4c4c46a2-1e01-4fc6-9ed2-6161c95a650d",
   "metadata": {
    "scrolled": true
   },
   "outputs": [
    {
     "name": "stdout",
     "output_type": "stream",
     "text": [
      "Path to dataset files: /home/ruairi/.cache/kagglehub/datasets/bloox2/fieldplant/versions/1/train\n"
     ]
    }
   ],
   "source": [
    "# Download latest version of data\n",
    "# Use the next 2 lines if not downloaded before\n",
    "image_dir = kagglehub.dataset_download(\"bloox2/fieldplant\")\n",
    "image_dir = Path(image_dir) / \"train\"\n",
    "\n",
    "# Use the next lines of code if your data has been downloaded already, but you are offline.  Will used cached data.\n",
    "# image_dir = \"~/.cache/kagglehub/datasets/bloox2/fieldplant/versions/1/train\"\n",
    "# print(\"Path to dataset files:\", image_dir)"
   ]
  },
  {
   "cell_type": "markdown",
   "id": "b14d51eb-5cb7-4245-8482-ee181dcee2c8",
   "metadata": {},
   "source": [
    "## Data Inspection"
   ]
  },
  {
   "cell_type": "markdown",
   "id": "2e859ecd-8ce6-4a14-ae22-1fa9806cb6d7",
   "metadata": {},
   "source": [
    "### Dataframe"
   ]
  },
  {
   "cell_type": "code",
   "execution_count": 72,
   "id": "96d2cd33-55a5-407d-885e-9442587941c9",
   "metadata": {
    "scrolled": true
   },
   "outputs": [
    {
     "name": "stdout",
     "output_type": "stream",
     "text": [
      "(8580, 8)\n"
     ]
    },
    {
     "data": {
      "text/html": [
       "<div>\n",
       "<style scoped>\n",
       "    .dataframe tbody tr th:only-of-type {\n",
       "        vertical-align: middle;\n",
       "    }\n",
       "\n",
       "    .dataframe tbody tr th {\n",
       "        vertical-align: top;\n",
       "    }\n",
       "\n",
       "    .dataframe thead th {\n",
       "        text-align: right;\n",
       "    }\n",
       "</style>\n",
       "<table border=\"1\" class=\"dataframe\">\n",
       "  <thead>\n",
       "    <tr style=\"text-align: right;\">\n",
       "      <th></th>\n",
       "      <th>filename</th>\n",
       "      <th>width</th>\n",
       "      <th>height</th>\n",
       "      <th>disease</th>\n",
       "      <th>xmin</th>\n",
       "      <th>ymin</th>\n",
       "      <th>xmax</th>\n",
       "      <th>ymax</th>\n",
       "    </tr>\n",
       "  </thead>\n",
       "  <tbody>\n",
       "    <tr>\n",
       "      <th>0</th>\n",
       "      <td>Manioc_Mosaique-839-_jpg.rf.40e7fcfcbd934d0e5e...</td>\n",
       "      <td>4160</td>\n",
       "      <td>2340</td>\n",
       "      <td>Cassava Mosaic</td>\n",
       "      <td>172</td>\n",
       "      <td>86</td>\n",
       "      <td>3255</td>\n",
       "      <td>2340</td>\n",
       "    </tr>\n",
       "    <tr>\n",
       "      <th>1</th>\n",
       "      <td>IMG20221216173252_jpg.rf.4122b742695fa3a71ba20...</td>\n",
       "      <td>3120</td>\n",
       "      <td>3120</td>\n",
       "      <td>Corn leaf blight</td>\n",
       "      <td>790</td>\n",
       "      <td>422</td>\n",
       "      <td>3120</td>\n",
       "      <td>3120</td>\n",
       "    </tr>\n",
       "    <tr>\n",
       "      <th>2</th>\n",
       "      <td>IMG_20221118_093039_956_jpg.rf.4122cbc73b4e7ab...</td>\n",
       "      <td>1920</td>\n",
       "      <td>2560</td>\n",
       "      <td>Tomato blight leaf</td>\n",
       "      <td>492</td>\n",
       "      <td>81</td>\n",
       "      <td>1755</td>\n",
       "      <td>1545</td>\n",
       "    </tr>\n",
       "  </tbody>\n",
       "</table>\n",
       "</div>"
      ],
      "text/plain": [
       "                                            filename  width  height  \\\n",
       "0  Manioc_Mosaique-839-_jpg.rf.40e7fcfcbd934d0e5e...   4160    2340   \n",
       "1  IMG20221216173252_jpg.rf.4122b742695fa3a71ba20...   3120    3120   \n",
       "2  IMG_20221118_093039_956_jpg.rf.4122cbc73b4e7ab...   1920    2560   \n",
       "\n",
       "              disease  xmin  ymin  xmax  ymax  \n",
       "0      Cassava Mosaic   172    86  3255  2340  \n",
       "1    Corn leaf blight   790   422  3120  3120  \n",
       "2  Tomato blight leaf   492    81  1755  1545  "
      ]
     },
     "execution_count": 72,
     "metadata": {},
     "output_type": "execute_result"
    }
   ],
   "source": [
    "annotations_path = list((path / \"train\").glob(\"*.csv\"))[0]\n",
    "\n",
    "df = pd.read_csv(annotations_path)\n",
    "df = df.rename(columns={\"class\":\"disease\"})\n",
    "\n",
    "print(df.shape)\n",
    "df.head(3)"
   ]
  },
  {
   "cell_type": "markdown",
   "id": "16b0faba-5359-44b4-9688-4b1fa14e8902",
   "metadata": {},
   "source": [
    "### Duplicates"
   ]
  },
  {
   "cell_type": "code",
   "execution_count": 73,
   "id": "45b25911-4330-4d51-a686-a3222e45be4b",
   "metadata": {
    "scrolled": true
   },
   "outputs": [
    {
     "data": {
      "text/plain": [
       "np.int64(0)"
      ]
     },
     "execution_count": 73,
     "metadata": {},
     "output_type": "execute_result"
    }
   ],
   "source": [
    "# No duplicates across all columns.\n",
    "df.duplicated().sum()"
   ]
  },
  {
   "cell_type": "code",
   "execution_count": 74,
   "id": "c22d9c0d-f08a-4d35-9ba1-b0fa1dda9cf4",
   "metadata": {},
   "outputs": [
    {
     "data": {
      "text/html": [
       "<div>\n",
       "<style scoped>\n",
       "    .dataframe tbody tr th:only-of-type {\n",
       "        vertical-align: middle;\n",
       "    }\n",
       "\n",
       "    .dataframe tbody tr th {\n",
       "        vertical-align: top;\n",
       "    }\n",
       "\n",
       "    .dataframe thead th {\n",
       "        text-align: right;\n",
       "    }\n",
       "</style>\n",
       "<table border=\"1\" class=\"dataframe\">\n",
       "  <thead>\n",
       "    <tr style=\"text-align: right;\">\n",
       "      <th></th>\n",
       "      <th>filename</th>\n",
       "      <th>width</th>\n",
       "      <th>height</th>\n",
       "      <th>disease</th>\n",
       "      <th>xmin</th>\n",
       "      <th>ymin</th>\n",
       "      <th>xmax</th>\n",
       "      <th>ymax</th>\n",
       "    </tr>\n",
       "  </thead>\n",
       "  <tbody>\n",
       "    <tr>\n",
       "      <th>3</th>\n",
       "      <td>Mais_Mildiou_-154-_jpg.rf.41330ed01bd1bc295999...</td>\n",
       "      <td>3120</td>\n",
       "      <td>3120</td>\n",
       "      <td>Corn leaf blight</td>\n",
       "      <td>64</td>\n",
       "      <td>752</td>\n",
       "      <td>1742</td>\n",
       "      <td>2771</td>\n",
       "    </tr>\n",
       "    <tr>\n",
       "      <th>4</th>\n",
       "      <td>Mais_Mildiou_-154-_jpg.rf.41330ed01bd1bc295999...</td>\n",
       "      <td>3120</td>\n",
       "      <td>3120</td>\n",
       "      <td>Corn leaf blight</td>\n",
       "      <td>2124</td>\n",
       "      <td>0</td>\n",
       "      <td>3120</td>\n",
       "      <td>3099</td>\n",
       "    </tr>\n",
       "    <tr>\n",
       "      <th>6</th>\n",
       "      <td>Tomate_Taches_Brunes-303-_jpg.rf.40ddb55bb5f0f...</td>\n",
       "      <td>3120</td>\n",
       "      <td>4160</td>\n",
       "      <td>Tomato Brown Spots</td>\n",
       "      <td>944</td>\n",
       "      <td>1512</td>\n",
       "      <td>2030</td>\n",
       "      <td>3874</td>\n",
       "    </tr>\n",
       "    <tr>\n",
       "      <th>7</th>\n",
       "      <td>Tomate_Taches_Brunes-303-_jpg.rf.40ddb55bb5f0f...</td>\n",
       "      <td>3120</td>\n",
       "      <td>4160</td>\n",
       "      <td>Tomato Brown Spots</td>\n",
       "      <td>0</td>\n",
       "      <td>514</td>\n",
       "      <td>1693</td>\n",
       "      <td>1302</td>\n",
       "    </tr>\n",
       "    <tr>\n",
       "      <th>8</th>\n",
       "      <td>Tomate_Taches_Brunes-303-_jpg.rf.40ddb55bb5f0f...</td>\n",
       "      <td>3120</td>\n",
       "      <td>4160</td>\n",
       "      <td>Tomato Brown Spots</td>\n",
       "      <td>1644</td>\n",
       "      <td>752</td>\n",
       "      <td>3045</td>\n",
       "      <td>1898</td>\n",
       "    </tr>\n",
       "  </tbody>\n",
       "</table>\n",
       "</div>"
      ],
      "text/plain": [
       "                                            filename  width  height  \\\n",
       "3  Mais_Mildiou_-154-_jpg.rf.41330ed01bd1bc295999...   3120    3120   \n",
       "4  Mais_Mildiou_-154-_jpg.rf.41330ed01bd1bc295999...   3120    3120   \n",
       "6  Tomate_Taches_Brunes-303-_jpg.rf.40ddb55bb5f0f...   3120    4160   \n",
       "7  Tomate_Taches_Brunes-303-_jpg.rf.40ddb55bb5f0f...   3120    4160   \n",
       "8  Tomate_Taches_Brunes-303-_jpg.rf.40ddb55bb5f0f...   3120    4160   \n",
       "\n",
       "              disease  xmin  ymin  xmax  ymax  \n",
       "3    Corn leaf blight    64   752  1742  2771  \n",
       "4    Corn leaf blight  2124     0  3120  3099  \n",
       "6  Tomato Brown Spots   944  1512  2030  3874  \n",
       "7  Tomato Brown Spots     0   514  1693  1302  \n",
       "8  Tomato Brown Spots  1644   752  3045  1898  "
      ]
     },
     "execution_count": 74,
     "metadata": {},
     "output_type": "execute_result"
    }
   ],
   "source": [
    "# Duplicated filenames due to an image filename being able to have >1 identified diseased leaf.\n",
    "df[df.duplicated(subset=\"filename\", keep=False)].head(5)"
   ]
  },
  {
   "cell_type": "code",
   "execution_count": 75,
   "id": "62a6e560-323f-487b-a149-fc8af794d401",
   "metadata": {},
   "outputs": [
    {
     "name": "stdout",
     "output_type": "stream",
     "text": [
      "(5346, 2)\n"
     ]
    },
    {
     "data": {
      "text/html": [
       "<div>\n",
       "<style scoped>\n",
       "    .dataframe tbody tr th:only-of-type {\n",
       "        vertical-align: middle;\n",
       "    }\n",
       "\n",
       "    .dataframe tbody tr th {\n",
       "        vertical-align: top;\n",
       "    }\n",
       "\n",
       "    .dataframe thead th {\n",
       "        text-align: right;\n",
       "    }\n",
       "</style>\n",
       "<table border=\"1\" class=\"dataframe\">\n",
       "  <thead>\n",
       "    <tr style=\"text-align: right;\">\n",
       "      <th></th>\n",
       "      <th>filename</th>\n",
       "      <th>disease</th>\n",
       "    </tr>\n",
       "  </thead>\n",
       "  <tbody>\n",
       "    <tr>\n",
       "      <th>5066</th>\n",
       "      <td>Charbon_de_mais-1-_jpg.rf.d83e40544e3be2dac4fd...</td>\n",
       "      <td>Corn Smut</td>\n",
       "    </tr>\n",
       "    <tr>\n",
       "      <th>5468</th>\n",
       "      <td>Charbon_de_mais-2-_jpg.rf.e2c36854e8f83c0f5cdd...</td>\n",
       "      <td>Corn Smut</td>\n",
       "    </tr>\n",
       "    <tr>\n",
       "      <th>8267</th>\n",
       "      <td>Charbon_de_mais-3-_jpg.rf.7779b177d76937957b47...</td>\n",
       "      <td>Corn Smut</td>\n",
       "    </tr>\n",
       "  </tbody>\n",
       "</table>\n",
       "</div>"
      ],
      "text/plain": [
       "                                               filename    disease\n",
       "5066  Charbon_de_mais-1-_jpg.rf.d83e40544e3be2dac4fd...  Corn Smut\n",
       "5468  Charbon_de_mais-2-_jpg.rf.e2c36854e8f83c0f5cdd...  Corn Smut\n",
       "8267  Charbon_de_mais-3-_jpg.rf.7779b177d76937957b47...  Corn Smut"
      ]
     },
     "execution_count": 75,
     "metadata": {},
     "output_type": "execute_result"
    }
   ],
   "source": [
    "# Not interested in location of disease, just whether a disease is preset in the image\n",
    "df = df.loc[:, [\"filename\", \"disease\"]]\n",
    "df = df.drop_duplicates().sort_values(by=\"filename\")\n",
    "print(df.shape)\n",
    "df.head(3)"
   ]
  },
  {
   "cell_type": "code",
   "execution_count": 76,
   "id": "60c039ac-73c9-4bf6-8a2d-8f2c7c90dbe9",
   "metadata": {},
   "outputs": [
    {
     "data": {
      "text/plain": [
       "np.int64(0)"
      ]
     },
     "execution_count": 76,
     "metadata": {},
     "output_type": "execute_result"
    }
   ],
   "source": [
    "# No duplicate filename and disease\n",
    "df.duplicated().sum()"
   ]
  },
  {
   "cell_type": "code",
   "execution_count": 77,
   "id": "c5de7e75-36fc-4994-9b2d-d711f1c46fa6",
   "metadata": {},
   "outputs": [
    {
     "data": {
      "text/plain": [
       "np.int64(190)"
      ]
     },
     "execution_count": 77,
     "metadata": {},
     "output_type": "execute_result"
    }
   ],
   "source": [
    "# Duplicates of filename column means that each file may have more than 1 type of disease.  \n",
    "df.duplicated(subset=\"filename\").sum()"
   ]
  },
  {
   "cell_type": "markdown",
   "id": "70f58ce3-a022-4e54-84f0-2a6a384d6561",
   "metadata": {},
   "source": [
    "### Filenames\n",
    "Ensure that the filenames in the images directory matches the filenames in the annotations data"
   ]
  },
  {
   "cell_type": "code",
   "execution_count": 78,
   "id": "ae1cdc25-5528-4cf4-8d6e-fa452d5419b2",
   "metadata": {},
   "outputs": [
    {
     "name": "stdout",
     "output_type": "stream",
     "text": [
      "['Charbon_de_mais-1-_jpg.rf.d83e40544e3be2dac4fd66077d50344a.jpg', 'Charbon_de_mais-2-_jpg.rf.e2c36854e8f83c0f5cdd4ba854405c87.jpg', 'Charbon_de_mais-3-_jpg.rf.7779b177d76937957b4740e3528ad485.jpg']\n",
      "\n",
      "Filenames in image directory matches the filenames in the annotations.csv?:\n",
      "True\n"
     ]
    }
   ],
   "source": [
    "image_dir = path / \"train\"\n",
    "\n",
    "# Filenames in Images Directory\n",
    "filenames_in_dir = sorted([f.name for f in image_dir.glob(\"*.jpg\")])\n",
    "print(filenames_in_dir[:3])\n",
    "print()\n",
    "\n",
    "# Filenames in directory match filenames in Dataframe\n",
    "print(\"Filenames in image directory matches the filenames in the annotations.csv?:\")\n",
    "print(np.all(filenames_in_dir == df.filename.unique()))"
   ]
  },
  {
   "cell_type": "markdown",
   "id": "15191186-e715-4500-9fd7-c4b39d240779",
   "metadata": {},
   "source": [
    "## Value Counts\n",
    "\n",
    "There are 2 classes of disease that both only have 1 sample each.  This is not suitable for splitting in a training / testing dataset. \n",
    "These samples will be dropped from the dataset."
   ]
  },
  {
   "cell_type": "code",
   "execution_count": 79,
   "id": "36274869-c82f-4b95-ae6e-a0fea123d075",
   "metadata": {},
   "outputs": [],
   "source": [
    "df['crop'] = df.disease.apply(lambda x: x.split()[0])"
   ]
  },
  {
   "cell_type": "code",
   "execution_count": 80,
   "id": "36df8771-5e58-425e-aa60-96505dc2b5c5",
   "metadata": {},
   "outputs": [
    {
     "name": "stdout",
     "output_type": "stream",
     "text": [
      "Num duplicated rows for filename/disease:  0\n",
      "Num duplicated rows for filename/crop:  189\n"
     ]
    }
   ],
   "source": [
    "df_disease = df.loc[:, [\"filename\", \"disease\"]]\n",
    "print(\"Num duplicated rows for filename/disease: \", df_disease.duplicated().sum() )\n",
    "\n",
    "df_crop = df.loc[:, [\"filename\", \"crop\"]]\n",
    "print(\"Num duplicated rows for filename/crop: \", df_crop.duplicated().sum() )"
   ]
  },
  {
   "cell_type": "code",
   "execution_count": 81,
   "id": "1e75681c-92d5-4965-a9e9-5315240ac66b",
   "metadata": {},
   "outputs": [
    {
     "data": {
      "image/png": "[encoded data removed]",
      "text/plain": [
       "<Figure size 1500x600 with 2 Axes>"
      ]
     },
     "metadata": {},
     "output_type": "display_data"
    }
   ],
   "source": [
    "fig, (ax1, ax2) = plt.subplots(1, 2, figsize=(15,6))\n",
    "fig.suptitle(\"Value Counts\", fontsize=20)\n",
    "\n",
    "df_disease.disease.value_counts().plot.bar(ax=ax1, title=\"Diseases\");\n",
    "ax1.bar_label(ax1.containers[0], fontsize=6);\n",
    "ax1.set_xlabel(\"\")\n",
    "\n",
    "df_crop = df_crop.drop_duplicates()\n",
    "ax2 = df_crop.crop.value_counts(normalize=True).plot.bar(title=\"Crops\");\n",
    "ax2.bar_label(ax2.containers[0],\n",
    "              labels=[f'{(v*100):.1f}%' for v in df_crop.crop.value_counts(normalize=True).values])\n",
    "ax2.set_xlabel(\"\");"
   ]
  },
  {
   "cell_type": "code",
   "execution_count": 82,
   "id": "91391302-627f-4db7-8053-6611eb07f07d",
   "metadata": {},
   "outputs": [
    {
     "data": {
      "text/html": [
       "<div>\n",
       "<style scoped>\n",
       "    .dataframe tbody tr th:only-of-type {\n",
       "        vertical-align: middle;\n",
       "    }\n",
       "\n",
       "    .dataframe tbody tr th {\n",
       "        vertical-align: top;\n",
       "    }\n",
       "\n",
       "    .dataframe thead th {\n",
       "        text-align: right;\n",
       "    }\n",
       "</style>\n",
       "<table border=\"1\" class=\"dataframe\">\n",
       "  <thead>\n",
       "    <tr style=\"text-align: right;\">\n",
       "      <th></th>\n",
       "      <th>filename</th>\n",
       "      <th>disease</th>\n",
       "      <th>crop</th>\n",
       "    </tr>\n",
       "  </thead>\n",
       "  <tbody>\n",
       "    <tr>\n",
       "      <th>4573</th>\n",
       "      <td>Charbon_de_mais-4-_jpg.rf.ca11615701c2f1d7dd45...</td>\n",
       "      <td>Corn Charcoal</td>\n",
       "      <td>Corn</td>\n",
       "    </tr>\n",
       "    <tr>\n",
       "      <th>1904</th>\n",
       "      <td>Tomate_Fletrissement-5-_jpg.rf.9b21131f2fa13e1...</td>\n",
       "      <td>Tomato bacterial wilt</td>\n",
       "      <td>Tomato</td>\n",
       "    </tr>\n",
       "  </tbody>\n",
       "</table>\n",
       "</div>"
      ],
      "text/plain": [
       "                                               filename  \\\n",
       "4573  Charbon_de_mais-4-_jpg.rf.ca11615701c2f1d7dd45...   \n",
       "1904  Tomate_Fletrissement-5-_jpg.rf.9b21131f2fa13e1...   \n",
       "\n",
       "                    disease    crop  \n",
       "4573          Corn Charcoal    Corn  \n",
       "1904  Tomato bacterial wilt  Tomato  "
      ]
     },
     "execution_count": 82,
     "metadata": {},
     "output_type": "execute_result"
    }
   ],
   "source": [
    "# Identify the 2 disease classes with only 1 sample each\n",
    "diseases_to_drop = [\"Corn Charcoal\", \"Tomato bacterial wilt\"]\n",
    "# Get the filenames of these samples\n",
    "filenames_to_drop = df.loc[df.disease.isin(diseases_to_drop)].filename\n",
    "\n",
    "# Check all records in filename column that match these filenames.\n",
    "# Searching for the filename only returns 1 record each, meaning that this file only contains one type of disease and is not usable for any other disease class.\n",
    "df[df.filename.isin(filenames_to_drop)]"
   ]
  },
  {
   "cell_type": "markdown",
   "id": "13c76ff6-ae37-4539-b792-2b41de5e3c0e",
   "metadata": {},
   "source": [
    "### Multilabel Classification"
   ]
  },
  {
   "cell_type": "markdown",
   "id": "7090fca6-4132-42f9-beef-f1a9afdab2c0",
   "metadata": {},
   "source": [
    "### Convert to Binary Encoding\n",
    "As this is a multi-label classification task, Binary encoding will be used instead of One Hot Encoding.  Each row can have more than one disease column with a \"1\" present."
   ]
  },
  {
   "cell_type": "code",
   "execution_count": 83,
   "id": "a86a899c-a87e-4a96-81b3-bad70933a0b6",
   "metadata": {},
   "outputs": [
    {
     "name": "stdout",
     "output_type": "stream",
     "text": [
      "(5156, 29)\n"
     ]
    },
    {
     "data": {
      "text/html": [
       "<div>\n",
       "<style scoped>\n",
       "    .dataframe tbody tr th:only-of-type {\n",
       "        vertical-align: middle;\n",
       "    }\n",
       "\n",
       "    .dataframe tbody tr th {\n",
       "        vertical-align: top;\n",
       "    }\n",
       "\n",
       "    .dataframe thead th {\n",
       "        text-align: right;\n",
       "    }\n",
       "</style>\n",
       "<table border=\"1\" class=\"dataframe\">\n",
       "  <thead>\n",
       "    <tr style=\"text-align: right;\">\n",
       "      <th></th>\n",
       "      <th>filename</th>\n",
       "      <th>Cassava Bacterial Blight</th>\n",
       "      <th>Cassava Brown Leaf Spot</th>\n",
       "      <th>Cassava Healthy</th>\n",
       "      <th>Cassava Mosaic</th>\n",
       "      <th>Cassava Root Rot</th>\n",
       "      <th>Corn Brown Spots</th>\n",
       "      <th>Corn Charcoal</th>\n",
       "      <th>Corn Chlorotic Leaf Spot</th>\n",
       "      <th>Corn Gray leaf spot</th>\n",
       "      <th>...</th>\n",
       "      <th>Corn Yellowing</th>\n",
       "      <th>Corn leaf blight</th>\n",
       "      <th>Corn rust leaf</th>\n",
       "      <th>Tomato Brown Spots</th>\n",
       "      <th>Tomato bacterial wilt</th>\n",
       "      <th>Tomato blight leaf</th>\n",
       "      <th>Tomato healthy</th>\n",
       "      <th>Tomato leaf mosaic virus</th>\n",
       "      <th>Tomato leaf yellow virus</th>\n",
       "      <th>num_diseases</th>\n",
       "    </tr>\n",
       "  </thead>\n",
       "  <tbody>\n",
       "    <tr>\n",
       "      <th>0</th>\n",
       "      <td>Charbon_de_mais-1-_jpg.rf.d83e40544e3be2dac4fd...</td>\n",
       "      <td>0</td>\n",
       "      <td>0</td>\n",
       "      <td>0</td>\n",
       "      <td>0</td>\n",
       "      <td>0</td>\n",
       "      <td>0</td>\n",
       "      <td>0</td>\n",
       "      <td>0</td>\n",
       "      <td>0</td>\n",
       "      <td>...</td>\n",
       "      <td>0</td>\n",
       "      <td>0</td>\n",
       "      <td>0</td>\n",
       "      <td>0</td>\n",
       "      <td>0</td>\n",
       "      <td>0</td>\n",
       "      <td>0</td>\n",
       "      <td>0</td>\n",
       "      <td>0</td>\n",
       "      <td>1</td>\n",
       "    </tr>\n",
       "    <tr>\n",
       "      <th>1</th>\n",
       "      <td>Charbon_de_mais-2-_jpg.rf.e2c36854e8f83c0f5cdd...</td>\n",
       "      <td>0</td>\n",
       "      <td>0</td>\n",
       "      <td>0</td>\n",
       "      <td>0</td>\n",
       "      <td>0</td>\n",
       "      <td>0</td>\n",
       "      <td>0</td>\n",
       "      <td>0</td>\n",
       "      <td>0</td>\n",
       "      <td>...</td>\n",
       "      <td>0</td>\n",
       "      <td>0</td>\n",
       "      <td>0</td>\n",
       "      <td>0</td>\n",
       "      <td>0</td>\n",
       "      <td>0</td>\n",
       "      <td>0</td>\n",
       "      <td>0</td>\n",
       "      <td>0</td>\n",
       "      <td>1</td>\n",
       "    </tr>\n",
       "    <tr>\n",
       "      <th>2</th>\n",
       "      <td>Charbon_de_mais-3-_jpg.rf.7779b177d76937957b47...</td>\n",
       "      <td>0</td>\n",
       "      <td>0</td>\n",
       "      <td>0</td>\n",
       "      <td>0</td>\n",
       "      <td>0</td>\n",
       "      <td>0</td>\n",
       "      <td>0</td>\n",
       "      <td>0</td>\n",
       "      <td>0</td>\n",
       "      <td>...</td>\n",
       "      <td>0</td>\n",
       "      <td>0</td>\n",
       "      <td>0</td>\n",
       "      <td>0</td>\n",
       "      <td>0</td>\n",
       "      <td>0</td>\n",
       "      <td>0</td>\n",
       "      <td>0</td>\n",
       "      <td>0</td>\n",
       "      <td>1</td>\n",
       "    </tr>\n",
       "  </tbody>\n",
       "</table>\n",
       "<p>3 rows × 29 columns</p>\n",
       "</div>"
      ],
      "text/plain": [
       "                                            filename  \\\n",
       "0  Charbon_de_mais-1-_jpg.rf.d83e40544e3be2dac4fd...   \n",
       "1  Charbon_de_mais-2-_jpg.rf.e2c36854e8f83c0f5cdd...   \n",
       "2  Charbon_de_mais-3-_jpg.rf.7779b177d76937957b47...   \n",
       "\n",
       "   Cassava Bacterial Blight  Cassava Brown Leaf Spot  Cassava Healthy  \\\n",
       "0                         0                        0                0   \n",
       "1                         0                        0                0   \n",
       "2                         0                        0                0   \n",
       "\n",
       "   Cassava Mosaic  Cassava Root Rot  Corn Brown Spots  Corn Charcoal  \\\n",
       "0               0                 0                 0              0   \n",
       "1               0                 0                 0              0   \n",
       "2               0                 0                 0              0   \n",
       "\n",
       "   Corn Chlorotic Leaf Spot  Corn Gray leaf spot  ...  Corn Yellowing  \\\n",
       "0                         0                    0  ...               0   \n",
       "1                         0                    0  ...               0   \n",
       "2                         0                    0  ...               0   \n",
       "\n",
       "   Corn leaf blight  Corn rust leaf  Tomato Brown Spots  \\\n",
       "0                 0               0                   0   \n",
       "1                 0               0                   0   \n",
       "2                 0               0                   0   \n",
       "\n",
       "   Tomato bacterial wilt  Tomato blight leaf  Tomato healthy  \\\n",
       "0                      0                   0               0   \n",
       "1                      0                   0               0   \n",
       "2                      0                   0               0   \n",
       "\n",
       "   Tomato leaf mosaic virus  Tomato leaf yellow virus  num_diseases  \n",
       "0                         0                         0             1  \n",
       "1                         0                         0             1  \n",
       "2                         0                         0             1  \n",
       "\n",
       "[3 rows x 29 columns]"
      ]
     },
     "execution_count": 83,
     "metadata": {},
     "output_type": "execute_result"
    }
   ],
   "source": [
    "# Binary encode dataframe\n",
    "df_b = pd.crosstab(df.filename, df.disease).reset_index()\n",
    "df_b.columns.name = None\n",
    "\n",
    "# Find the number of diseases per image, by summing across all the disease columns.\n",
    "df_b['num_diseases'] = np.sum(df_b.iloc[:, 2:], axis=1)\n",
    "\n",
    "print(df_b.shape)\n",
    "df_b.head(3)"
   ]
  },
  {
   "cell_type": "code",
   "execution_count": 84,
   "id": "fb25fa4c-4aec-4431-ba49-dc94997e1460",
   "metadata": {},
   "outputs": [
    {
     "data": {
      "text/html": [
       "<div>\n",
       "<style scoped>\n",
       "    .dataframe tbody tr th:only-of-type {\n",
       "        vertical-align: middle;\n",
       "    }\n",
       "\n",
       "    .dataframe tbody tr th {\n",
       "        vertical-align: top;\n",
       "    }\n",
       "\n",
       "    .dataframe thead th {\n",
       "        text-align: right;\n",
       "    }\n",
       "</style>\n",
       "<table border=\"1\" class=\"dataframe\">\n",
       "  <thead>\n",
       "    <tr style=\"text-align: right;\">\n",
       "      <th></th>\n",
       "      <th>filename</th>\n",
       "      <th>Cassava Bacterial Blight</th>\n",
       "      <th>Cassava Brown Leaf Spot</th>\n",
       "      <th>Cassava Healthy</th>\n",
       "      <th>Cassava Mosaic</th>\n",
       "      <th>Cassava Root Rot</th>\n",
       "      <th>Corn Brown Spots</th>\n",
       "      <th>Corn Charcoal</th>\n",
       "      <th>Corn Chlorotic Leaf Spot</th>\n",
       "      <th>Corn Gray leaf spot</th>\n",
       "      <th>...</th>\n",
       "      <th>Corn Yellowing</th>\n",
       "      <th>Corn leaf blight</th>\n",
       "      <th>Corn rust leaf</th>\n",
       "      <th>Tomato Brown Spots</th>\n",
       "      <th>Tomato bacterial wilt</th>\n",
       "      <th>Tomato blight leaf</th>\n",
       "      <th>Tomato healthy</th>\n",
       "      <th>Tomato leaf mosaic virus</th>\n",
       "      <th>Tomato leaf yellow virus</th>\n",
       "      <th>num_diseases</th>\n",
       "    </tr>\n",
       "  </thead>\n",
       "  <tbody>\n",
       "    <tr>\n",
       "      <th>3</th>\n",
       "      <td>Charbon_de_mais-4-_jpg.rf.ca11615701c2f1d7dd45...</td>\n",
       "      <td>0</td>\n",
       "      <td>0</td>\n",
       "      <td>0</td>\n",
       "      <td>0</td>\n",
       "      <td>0</td>\n",
       "      <td>0</td>\n",
       "      <td>1</td>\n",
       "      <td>0</td>\n",
       "      <td>0</td>\n",
       "      <td>...</td>\n",
       "      <td>0</td>\n",
       "      <td>0</td>\n",
       "      <td>0</td>\n",
       "      <td>0</td>\n",
       "      <td>0</td>\n",
       "      <td>0</td>\n",
       "      <td>0</td>\n",
       "      <td>0</td>\n",
       "      <td>0</td>\n",
       "      <td>1</td>\n",
       "    </tr>\n",
       "    <tr>\n",
       "      <th>4177</th>\n",
       "      <td>Tomate_Fletrissement-5-_jpg.rf.9b21131f2fa13e1...</td>\n",
       "      <td>0</td>\n",
       "      <td>0</td>\n",
       "      <td>0</td>\n",
       "      <td>0</td>\n",
       "      <td>0</td>\n",
       "      <td>0</td>\n",
       "      <td>0</td>\n",
       "      <td>0</td>\n",
       "      <td>0</td>\n",
       "      <td>...</td>\n",
       "      <td>0</td>\n",
       "      <td>0</td>\n",
       "      <td>0</td>\n",
       "      <td>0</td>\n",
       "      <td>1</td>\n",
       "      <td>0</td>\n",
       "      <td>0</td>\n",
       "      <td>0</td>\n",
       "      <td>0</td>\n",
       "      <td>1</td>\n",
       "    </tr>\n",
       "  </tbody>\n",
       "</table>\n",
       "<p>2 rows × 29 columns</p>\n",
       "</div>"
      ],
      "text/plain": [
       "                                               filename  \\\n",
       "3     Charbon_de_mais-4-_jpg.rf.ca11615701c2f1d7dd45...   \n",
       "4177  Tomate_Fletrissement-5-_jpg.rf.9b21131f2fa13e1...   \n",
       "\n",
       "      Cassava Bacterial Blight  Cassava Brown Leaf Spot  Cassava Healthy  \\\n",
       "3                            0                        0                0   \n",
       "4177                         0                        0                0   \n",
       "\n",
       "      Cassava Mosaic  Cassava Root Rot  Corn Brown Spots  Corn Charcoal  \\\n",
       "3                  0                 0                 0              1   \n",
       "4177               0                 0                 0              0   \n",
       "\n",
       "      Corn Chlorotic Leaf Spot  Corn Gray leaf spot  ...  Corn Yellowing  \\\n",
       "3                            0                    0  ...               0   \n",
       "4177                         0                    0  ...               0   \n",
       "\n",
       "      Corn leaf blight  Corn rust leaf  Tomato Brown Spots  \\\n",
       "3                    0               0                   0   \n",
       "4177                 0               0                   0   \n",
       "\n",
       "      Tomato bacterial wilt  Tomato blight leaf  Tomato healthy  \\\n",
       "3                         0                   0               0   \n",
       "4177                      1                   0               0   \n",
       "\n",
       "      Tomato leaf mosaic virus  Tomato leaf yellow virus  num_diseases  \n",
       "3                            0                         0             1  \n",
       "4177                         0                         0             1  \n",
       "\n",
       "[2 rows x 29 columns]"
      ]
     },
     "execution_count": 84,
     "metadata": {},
     "output_type": "execute_result"
    }
   ],
   "source": [
    "# Check files to drop.\n",
    "# Each file only contains 1 disease, so file is not usable for other disease classes. \n",
    "df_b[df_b.filename.isin(filenames_to_drop)]"
   ]
  },
  {
   "cell_type": "code",
   "execution_count": 85,
   "id": "966cabbf-0e4c-4f0f-afc6-e37fd1c99be9",
   "metadata": {},
   "outputs": [
    {
     "data": {
      "text/plain": [
       "array([1, 2, 3, 0])"
      ]
     },
     "execution_count": 85,
     "metadata": {},
     "output_type": "execute_result"
    }
   ],
   "source": [
    "# Check the unique values for the num_disease per image\n",
    "df_b.num_diseases.unique()"
   ]
  },
  {
   "cell_type": "code",
   "execution_count": 86,
   "id": "3150dfa1-153e-428c-a90b-0cd089ef82a0",
   "metadata": {},
   "outputs": [
    {
     "data": {
      "text/plain": [
       "np.int64(0)"
      ]
     },
     "execution_count": 86,
     "metadata": {},
     "output_type": "execute_result"
    }
   ],
   "source": [
    "# No duplicates in the filename column.  Now each row indicates an individual image.\n",
    "df_b.duplicated(subset=\"filename\").sum()"
   ]
  },
  {
   "cell_type": "code",
   "execution_count": 87,
   "id": "3565259a-85c5-4888-a060-3bc452d33640",
   "metadata": {},
   "outputs": [
    {
     "data": {
      "text/html": [
       "<div>\n",
       "<style scoped>\n",
       "    .dataframe tbody tr th:only-of-type {\n",
       "        vertical-align: middle;\n",
       "    }\n",
       "\n",
       "    .dataframe tbody tr th {\n",
       "        vertical-align: top;\n",
       "    }\n",
       "\n",
       "    .dataframe thead th {\n",
       "        text-align: right;\n",
       "    }\n",
       "</style>\n",
       "<table border=\"1\" class=\"dataframe\">\n",
       "  <thead>\n",
       "    <tr style=\"text-align: right;\">\n",
       "      <th></th>\n",
       "      <th>filename</th>\n",
       "      <th>Cassava Bacterial Blight</th>\n",
       "      <th>Cassava Brown Leaf Spot</th>\n",
       "      <th>Cassava Healthy</th>\n",
       "      <th>Cassava Mosaic</th>\n",
       "      <th>Cassava Root Rot</th>\n",
       "      <th>Corn Brown Spots</th>\n",
       "      <th>Corn Charcoal</th>\n",
       "      <th>Corn Chlorotic Leaf Spot</th>\n",
       "      <th>Corn Gray leaf spot</th>\n",
       "      <th>...</th>\n",
       "      <th>Corn Yellowing</th>\n",
       "      <th>Corn leaf blight</th>\n",
       "      <th>Corn rust leaf</th>\n",
       "      <th>Tomato Brown Spots</th>\n",
       "      <th>Tomato bacterial wilt</th>\n",
       "      <th>Tomato blight leaf</th>\n",
       "      <th>Tomato healthy</th>\n",
       "      <th>Tomato leaf mosaic virus</th>\n",
       "      <th>Tomato leaf yellow virus</th>\n",
       "      <th>num_diseases</th>\n",
       "    </tr>\n",
       "  </thead>\n",
       "  <tbody>\n",
       "    <tr>\n",
       "      <th>368</th>\n",
       "      <td>IMG_20221118_081835_744_jpg.rf.33cfed71f73ac3e...</td>\n",
       "      <td>0</td>\n",
       "      <td>0</td>\n",
       "      <td>0</td>\n",
       "      <td>0</td>\n",
       "      <td>0</td>\n",
       "      <td>0</td>\n",
       "      <td>0</td>\n",
       "      <td>0</td>\n",
       "      <td>0</td>\n",
       "      <td>...</td>\n",
       "      <td>0</td>\n",
       "      <td>0</td>\n",
       "      <td>0</td>\n",
       "      <td>0</td>\n",
       "      <td>0</td>\n",
       "      <td>1</td>\n",
       "      <td>1</td>\n",
       "      <td>0</td>\n",
       "      <td>1</td>\n",
       "      <td>3</td>\n",
       "    </tr>\n",
       "  </tbody>\n",
       "</table>\n",
       "<p>1 rows × 29 columns</p>\n",
       "</div>"
      ],
      "text/plain": [
       "                                              filename  \\\n",
       "368  IMG_20221118_081835_744_jpg.rf.33cfed71f73ac3e...   \n",
       "\n",
       "     Cassava Bacterial Blight  Cassava Brown Leaf Spot  Cassava Healthy  \\\n",
       "368                         0                        0                0   \n",
       "\n",
       "     Cassava Mosaic  Cassava Root Rot  Corn Brown Spots  Corn Charcoal  \\\n",
       "368               0                 0                 0              0   \n",
       "\n",
       "     Corn Chlorotic Leaf Spot  Corn Gray leaf spot  ...  Corn Yellowing  \\\n",
       "368                         0                    0  ...               0   \n",
       "\n",
       "     Corn leaf blight  Corn rust leaf  Tomato Brown Spots  \\\n",
       "368                 0               0                   0   \n",
       "\n",
       "     Tomato bacterial wilt  Tomato blight leaf  Tomato healthy  \\\n",
       "368                      0                   1               1   \n",
       "\n",
       "     Tomato leaf mosaic virus  Tomato leaf yellow virus  num_diseases  \n",
       "368                         0                         1             3  \n",
       "\n",
       "[1 rows x 29 columns]"
      ]
     },
     "execution_count": 87,
     "metadata": {},
     "output_type": "execute_result"
    }
   ],
   "source": [
    "# An example of an image with 3 different diseases.\n",
    "df_b[df_b.num_diseases == 3]"
   ]
  },
  {
   "cell_type": "markdown",
   "id": "8af336d3-4368-4ae5-811c-7c076377b6c5",
   "metadata": {},
   "source": [
    "### Save Processed dataframes\n",
    "The unfiltered version is saved also, as this is what is used in the originial FieldPlant research.  Their experiments will be replicated with this dataset.\n",
    "The filtered version is saved to use in the main experiments of this research.  It has been filtered to allow for stratified split for multilabel classification methodology."
   ]
  },
  {
   "cell_type": "code",
   "execution_count": 88,
   "id": "d587493c-a066-480f-b0cd-3d7e0d181fef",
   "metadata": {
    "scrolled": true
   },
   "outputs": [
    {
     "data": {
      "text/html": [
       "<div>\n",
       "<style scoped>\n",
       "    .dataframe tbody tr th:only-of-type {\n",
       "        vertical-align: middle;\n",
       "    }\n",
       "\n",
       "    .dataframe tbody tr th {\n",
       "        vertical-align: top;\n",
       "    }\n",
       "\n",
       "    .dataframe thead th {\n",
       "        text-align: right;\n",
       "    }\n",
       "</style>\n",
       "<table border=\"1\" class=\"dataframe\">\n",
       "  <thead>\n",
       "    <tr style=\"text-align: right;\">\n",
       "      <th></th>\n",
       "      <th>filename</th>\n",
       "      <th>Cassava Bacterial Blight</th>\n",
       "      <th>Cassava Brown Leaf Spot</th>\n",
       "      <th>Cassava Healthy</th>\n",
       "      <th>Cassava Mosaic</th>\n",
       "      <th>Cassava Root Rot</th>\n",
       "      <th>Corn Brown Spots</th>\n",
       "      <th>Corn Charcoal</th>\n",
       "      <th>Corn Chlorotic Leaf Spot</th>\n",
       "      <th>Corn Gray leaf spot</th>\n",
       "      <th>...</th>\n",
       "      <th>Corn Yellow Spots</th>\n",
       "      <th>Corn Yellowing</th>\n",
       "      <th>Corn leaf blight</th>\n",
       "      <th>Corn rust leaf</th>\n",
       "      <th>Tomato Brown Spots</th>\n",
       "      <th>Tomato bacterial wilt</th>\n",
       "      <th>Tomato blight leaf</th>\n",
       "      <th>Tomato healthy</th>\n",
       "      <th>Tomato leaf mosaic virus</th>\n",
       "      <th>Tomato leaf yellow virus</th>\n",
       "    </tr>\n",
       "  </thead>\n",
       "  <tbody>\n",
       "    <tr>\n",
       "      <th>0</th>\n",
       "      <td>Charbon_de_mais-1-_jpg.rf.d83e40544e3be2dac4fd...</td>\n",
       "      <td>0</td>\n",
       "      <td>0</td>\n",
       "      <td>0</td>\n",
       "      <td>0</td>\n",
       "      <td>0</td>\n",
       "      <td>0</td>\n",
       "      <td>0</td>\n",
       "      <td>0</td>\n",
       "      <td>0</td>\n",
       "      <td>...</td>\n",
       "      <td>0</td>\n",
       "      <td>0</td>\n",
       "      <td>0</td>\n",
       "      <td>0</td>\n",
       "      <td>0</td>\n",
       "      <td>0</td>\n",
       "      <td>0</td>\n",
       "      <td>0</td>\n",
       "      <td>0</td>\n",
       "      <td>0</td>\n",
       "    </tr>\n",
       "    <tr>\n",
       "      <th>1</th>\n",
       "      <td>Charbon_de_mais-2-_jpg.rf.e2c36854e8f83c0f5cdd...</td>\n",
       "      <td>0</td>\n",
       "      <td>0</td>\n",
       "      <td>0</td>\n",
       "      <td>0</td>\n",
       "      <td>0</td>\n",
       "      <td>0</td>\n",
       "      <td>0</td>\n",
       "      <td>0</td>\n",
       "      <td>0</td>\n",
       "      <td>...</td>\n",
       "      <td>0</td>\n",
       "      <td>0</td>\n",
       "      <td>0</td>\n",
       "      <td>0</td>\n",
       "      <td>0</td>\n",
       "      <td>0</td>\n",
       "      <td>0</td>\n",
       "      <td>0</td>\n",
       "      <td>0</td>\n",
       "      <td>0</td>\n",
       "    </tr>\n",
       "    <tr>\n",
       "      <th>2</th>\n",
       "      <td>Charbon_de_mais-3-_jpg.rf.7779b177d76937957b47...</td>\n",
       "      <td>0</td>\n",
       "      <td>0</td>\n",
       "      <td>0</td>\n",
       "      <td>0</td>\n",
       "      <td>0</td>\n",
       "      <td>0</td>\n",
       "      <td>0</td>\n",
       "      <td>0</td>\n",
       "      <td>0</td>\n",
       "      <td>...</td>\n",
       "      <td>0</td>\n",
       "      <td>0</td>\n",
       "      <td>0</td>\n",
       "      <td>0</td>\n",
       "      <td>0</td>\n",
       "      <td>0</td>\n",
       "      <td>0</td>\n",
       "      <td>0</td>\n",
       "      <td>0</td>\n",
       "      <td>0</td>\n",
       "    </tr>\n",
       "    <tr>\n",
       "      <th>3</th>\n",
       "      <td>Charbon_de_mais-4-_jpg.rf.ca11615701c2f1d7dd45...</td>\n",
       "      <td>0</td>\n",
       "      <td>0</td>\n",
       "      <td>0</td>\n",
       "      <td>0</td>\n",
       "      <td>0</td>\n",
       "      <td>0</td>\n",
       "      <td>1</td>\n",
       "      <td>0</td>\n",
       "      <td>0</td>\n",
       "      <td>...</td>\n",
       "      <td>0</td>\n",
       "      <td>0</td>\n",
       "      <td>0</td>\n",
       "      <td>0</td>\n",
       "      <td>0</td>\n",
       "      <td>0</td>\n",
       "      <td>0</td>\n",
       "      <td>0</td>\n",
       "      <td>0</td>\n",
       "      <td>0</td>\n",
       "    </tr>\n",
       "    <tr>\n",
       "      <th>4</th>\n",
       "      <td>Charbon_de_mais-5-_jpg.rf.85b069615e2279858d49...</td>\n",
       "      <td>0</td>\n",
       "      <td>0</td>\n",
       "      <td>0</td>\n",
       "      <td>0</td>\n",
       "      <td>0</td>\n",
       "      <td>0</td>\n",
       "      <td>0</td>\n",
       "      <td>0</td>\n",
       "      <td>0</td>\n",
       "      <td>...</td>\n",
       "      <td>0</td>\n",
       "      <td>0</td>\n",
       "      <td>0</td>\n",
       "      <td>0</td>\n",
       "      <td>0</td>\n",
       "      <td>0</td>\n",
       "      <td>0</td>\n",
       "      <td>0</td>\n",
       "      <td>0</td>\n",
       "      <td>0</td>\n",
       "    </tr>\n",
       "  </tbody>\n",
       "</table>\n",
       "<p>5 rows × 28 columns</p>\n",
       "</div>"
      ],
      "text/plain": [
       "                                            filename  \\\n",
       "0  Charbon_de_mais-1-_jpg.rf.d83e40544e3be2dac4fd...   \n",
       "1  Charbon_de_mais-2-_jpg.rf.e2c36854e8f83c0f5cdd...   \n",
       "2  Charbon_de_mais-3-_jpg.rf.7779b177d76937957b47...   \n",
       "3  Charbon_de_mais-4-_jpg.rf.ca11615701c2f1d7dd45...   \n",
       "4  Charbon_de_mais-5-_jpg.rf.85b069615e2279858d49...   \n",
       "\n",
       "   Cassava Bacterial Blight  Cassava Brown Leaf Spot  Cassava Healthy  \\\n",
       "0                         0                        0                0   \n",
       "1                         0                        0                0   \n",
       "2                         0                        0                0   \n",
       "3                         0                        0                0   \n",
       "4                         0                        0                0   \n",
       "\n",
       "   Cassava Mosaic  Cassava Root Rot  Corn Brown Spots  Corn Charcoal  \\\n",
       "0               0                 0                 0              0   \n",
       "1               0                 0                 0              0   \n",
       "2               0                 0                 0              0   \n",
       "3               0                 0                 0              1   \n",
       "4               0                 0                 0              0   \n",
       "\n",
       "   Corn Chlorotic Leaf Spot  Corn Gray leaf spot  ...  Corn Yellow Spots  \\\n",
       "0                         0                    0  ...                  0   \n",
       "1                         0                    0  ...                  0   \n",
       "2                         0                    0  ...                  0   \n",
       "3                         0                    0  ...                  0   \n",
       "4                         0                    0  ...                  0   \n",
       "\n",
       "   Corn Yellowing  Corn leaf blight  Corn rust leaf  Tomato Brown Spots  \\\n",
       "0               0                 0               0                   0   \n",
       "1               0                 0               0                   0   \n",
       "2               0                 0               0                   0   \n",
       "3               0                 0               0                   0   \n",
       "4               0                 0               0                   0   \n",
       "\n",
       "   Tomato bacterial wilt  Tomato blight leaf  Tomato healthy  \\\n",
       "0                      0                   0               0   \n",
       "1                      0                   0               0   \n",
       "2                      0                   0               0   \n",
       "3                      0                   0               0   \n",
       "4                      0                   0               0   \n",
       "\n",
       "   Tomato leaf mosaic virus  Tomato leaf yellow virus  \n",
       "0                         0                         0  \n",
       "1                         0                         0  \n",
       "2                         0                         0  \n",
       "3                         0                         0  \n",
       "4                         0                         0  \n",
       "\n",
       "[5 rows x 28 columns]"
      ]
     },
     "execution_count": 88,
     "metadata": {},
     "output_type": "execute_result"
    }
   ],
   "source": [
    "df_b = df_b.drop(columns=[\"num_diseases\"])\n",
    "df_b.head()"
   ]
  },
  {
   "cell_type": "code",
   "execution_count": 89,
   "id": "8a98b65e-e68a-4057-a36e-39ecd1b1342f",
   "metadata": {
    "scrolled": true
   },
   "outputs": [],
   "source": [
    "# Save processed Dataframe to CSV\n",
    "df_b.to_csv(\"../data/unfiltered.csv\", index=False)"
   ]
  },
  {
   "cell_type": "code",
   "execution_count": 90,
   "id": "db2a614a-83e4-4826-b3e2-f14229a62cea",
   "metadata": {},
   "outputs": [
    {
     "name": "stdout",
     "output_type": "stream",
     "text": [
      "(5154, 26)\n"
     ]
    }
   ],
   "source": [
    "wide_filtered = df_b[~df_b.filename.isin(filenames_to_drop)]\n",
    "wide_filtered = wide_filtered.loc[:, (wide_filtered != 0).any(axis=0)]\n",
    "print(wide_filtered.shape)"
   ]
  },
  {
   "cell_type": "code",
   "execution_count": 91,
   "id": "e86f26d6-9a67-4a7b-b344-f4408e1cdee7",
   "metadata": {},
   "outputs": [],
   "source": [
    "wide_filtered.to_csv(\"../data/filtered.csv\", index=False)"
   ]
  },
  {
   "cell_type": "markdown",
   "id": "386f3eba-8b98-44cc-ba6b-e0b30436b1dc",
   "metadata": {},
   "source": [
    "### Reload Processed CSV"
   ]
  },
  {
   "cell_type": "code",
   "execution_count": 92,
   "id": "2dca04c3-ce61-4735-9ad3-20f14d711e0d",
   "metadata": {},
   "outputs": [
    {
     "name": "stdout",
     "output_type": "stream",
     "text": [
      "(5154, 26)\n"
     ]
    },
    {
     "data": {
      "text/html": [
       "<div>\n",
       "<style scoped>\n",
       "    .dataframe tbody tr th:only-of-type {\n",
       "        vertical-align: middle;\n",
       "    }\n",
       "\n",
       "    .dataframe tbody tr th {\n",
       "        vertical-align: top;\n",
       "    }\n",
       "\n",
       "    .dataframe thead th {\n",
       "        text-align: right;\n",
       "    }\n",
       "</style>\n",
       "<table border=\"1\" class=\"dataframe\">\n",
       "  <thead>\n",
       "    <tr style=\"text-align: right;\">\n",
       "      <th></th>\n",
       "      <th>filename</th>\n",
       "      <th>Cassava Bacterial Blight</th>\n",
       "      <th>Cassava Brown Leaf Spot</th>\n",
       "      <th>Cassava Healthy</th>\n",
       "      <th>Cassava Mosaic</th>\n",
       "      <th>Cassava Root Rot</th>\n",
       "      <th>Corn Brown Spots</th>\n",
       "      <th>Corn Chlorotic Leaf Spot</th>\n",
       "      <th>Corn Gray leaf spot</th>\n",
       "      <th>Corn Healthy</th>\n",
       "      <th>...</th>\n",
       "      <th>Corn Violet Decoloration</th>\n",
       "      <th>Corn Yellow Spots</th>\n",
       "      <th>Corn Yellowing</th>\n",
       "      <th>Corn leaf blight</th>\n",
       "      <th>Corn rust leaf</th>\n",
       "      <th>Tomato Brown Spots</th>\n",
       "      <th>Tomato blight leaf</th>\n",
       "      <th>Tomato healthy</th>\n",
       "      <th>Tomato leaf mosaic virus</th>\n",
       "      <th>Tomato leaf yellow virus</th>\n",
       "    </tr>\n",
       "  </thead>\n",
       "  <tbody>\n",
       "    <tr>\n",
       "      <th>0</th>\n",
       "      <td>Charbon_de_mais-1-_jpg.rf.d83e40544e3be2dac4fd...</td>\n",
       "      <td>0</td>\n",
       "      <td>0</td>\n",
       "      <td>0</td>\n",
       "      <td>0</td>\n",
       "      <td>0</td>\n",
       "      <td>0</td>\n",
       "      <td>0</td>\n",
       "      <td>0</td>\n",
       "      <td>0</td>\n",
       "      <td>...</td>\n",
       "      <td>0</td>\n",
       "      <td>0</td>\n",
       "      <td>0</td>\n",
       "      <td>0</td>\n",
       "      <td>0</td>\n",
       "      <td>0</td>\n",
       "      <td>0</td>\n",
       "      <td>0</td>\n",
       "      <td>0</td>\n",
       "      <td>0</td>\n",
       "    </tr>\n",
       "    <tr>\n",
       "      <th>1</th>\n",
       "      <td>Charbon_de_mais-2-_jpg.rf.e2c36854e8f83c0f5cdd...</td>\n",
       "      <td>0</td>\n",
       "      <td>0</td>\n",
       "      <td>0</td>\n",
       "      <td>0</td>\n",
       "      <td>0</td>\n",
       "      <td>0</td>\n",
       "      <td>0</td>\n",
       "      <td>0</td>\n",
       "      <td>0</td>\n",
       "      <td>...</td>\n",
       "      <td>0</td>\n",
       "      <td>0</td>\n",
       "      <td>0</td>\n",
       "      <td>0</td>\n",
       "      <td>0</td>\n",
       "      <td>0</td>\n",
       "      <td>0</td>\n",
       "      <td>0</td>\n",
       "      <td>0</td>\n",
       "      <td>0</td>\n",
       "    </tr>\n",
       "    <tr>\n",
       "      <th>2</th>\n",
       "      <td>Charbon_de_mais-3-_jpg.rf.7779b177d76937957b47...</td>\n",
       "      <td>0</td>\n",
       "      <td>0</td>\n",
       "      <td>0</td>\n",
       "      <td>0</td>\n",
       "      <td>0</td>\n",
       "      <td>0</td>\n",
       "      <td>0</td>\n",
       "      <td>0</td>\n",
       "      <td>0</td>\n",
       "      <td>...</td>\n",
       "      <td>0</td>\n",
       "      <td>0</td>\n",
       "      <td>0</td>\n",
       "      <td>0</td>\n",
       "      <td>0</td>\n",
       "      <td>0</td>\n",
       "      <td>0</td>\n",
       "      <td>0</td>\n",
       "      <td>0</td>\n",
       "      <td>0</td>\n",
       "    </tr>\n",
       "  </tbody>\n",
       "</table>\n",
       "<p>3 rows × 26 columns</p>\n",
       "</div>"
      ],
      "text/plain": [
       "                                            filename  \\\n",
       "0  Charbon_de_mais-1-_jpg.rf.d83e40544e3be2dac4fd...   \n",
       "1  Charbon_de_mais-2-_jpg.rf.e2c36854e8f83c0f5cdd...   \n",
       "2  Charbon_de_mais-3-_jpg.rf.7779b177d76937957b47...   \n",
       "\n",
       "   Cassava Bacterial Blight  Cassava Brown Leaf Spot  Cassava Healthy  \\\n",
       "0                         0                        0                0   \n",
       "1                         0                        0                0   \n",
       "2                         0                        0                0   \n",
       "\n",
       "   Cassava Mosaic  Cassava Root Rot  Corn Brown Spots  \\\n",
       "0               0                 0                 0   \n",
       "1               0                 0                 0   \n",
       "2               0                 0                 0   \n",
       "\n",
       "   Corn Chlorotic Leaf Spot  Corn Gray leaf spot  Corn Healthy  ...  \\\n",
       "0                         0                    0             0  ...   \n",
       "1                         0                    0             0  ...   \n",
       "2                         0                    0             0  ...   \n",
       "\n",
       "   Corn Violet Decoloration  Corn Yellow Spots  Corn Yellowing  \\\n",
       "0                         0                  0               0   \n",
       "1                         0                  0               0   \n",
       "2                         0                  0               0   \n",
       "\n",
       "   Corn leaf blight  Corn rust leaf  Tomato Brown Spots  Tomato blight leaf  \\\n",
       "0                 0               0                   0                   0   \n",
       "1                 0               0                   0                   0   \n",
       "2                 0               0                   0                   0   \n",
       "\n",
       "   Tomato healthy  Tomato leaf mosaic virus  Tomato leaf yellow virus  \n",
       "0               0                         0                         0  \n",
       "1               0                         0                         0  \n",
       "2               0                         0                         0  \n",
       "\n",
       "[3 rows x 26 columns]"
      ]
     },
     "execution_count": 92,
     "metadata": {},
     "output_type": "execute_result"
    }
   ],
   "source": [
    "# Reload processed Dataframe and inspect shape\n",
    "df = pd.read_csv(\"../data/filtered.csv\")\n",
    "\n",
    "print(df.shape)\n",
    "df.head(3)"
   ]
  },
  {
   "cell_type": "code",
   "execution_count": null,
   "id": "9f321acc-32e1-43f1-a2f0-5daf0f8cf77c",
   "metadata": {},
   "outputs": [],
   "source": []
  }
 ],
 "metadata": {
  "kernelspec": {
   "display_name": "Python [conda env:tf]",
   "language": "python",
   "name": "conda-env-tf-py"
  },
  "language_info": {
   "codemirror_mode": {
    "name": "ipython",
    "version": 3
   },
   "file_extension": ".py",
   "mimetype": "text/x-python",
   "name": "python",
   "nbconvert_exporter": "python",
   "pygments_lexer": "ipython3",
   "version": "3.12.9"
  }
 },
 "nbformat": 4,
 "nbformat_minor": 5
}
