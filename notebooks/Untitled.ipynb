{
 "cells": [
  {
   "cell_type": "code",
   "execution_count": 1,
   "id": "45e9ece4-d8c1-4b63-9b2e-118af104eca6",
   "metadata": {},
   "outputs": [],
   "source": [
    "from skmultilearn.model_selection import iterative_train_test_split\n",
    "import pandas as pd"
   ]
  },
  {
   "cell_type": "code",
   "execution_count": 2,
   "id": "fb91e5de-3fa7-4e24-8ff9-893e6c870e10",
   "metadata": {},
   "outputs": [],
   "source": [
    "df = pd.read_csv(\"../data/filtered.csv\")"
   ]
  },
  {
   "cell_type": "code",
   "execution_count": 8,
   "id": "f67cec73-5c8c-4821-88e8-8bfa25568312",
   "metadata": {},
   "outputs": [],
   "source": [
    "X = df.filename.to_frame().to_numpy()\n",
    "y = df.drop(columns=\"filename\").to_numpy()"
   ]
  },
  {
   "cell_type": "code",
   "execution_count": 9,
   "id": "1eadc794-a176-47d4-949e-d640e3bcdb93",
   "metadata": {},
   "outputs": [],
   "source": [
    "X_train, y_train, X_test, y_test = iterative_train_test_split(X, y, test_size=0.2)"
   ]
  },
  {
   "cell_type": "code",
   "execution_count": null,
   "id": "42d11ccd-48fe-4386-8e75-6d0af152bd38",
   "metadata": {},
   "outputs": [],
   "source": []
  }
 ],
 "metadata": {
  "kernelspec": {
   "display_name": "Python [conda env:tf]",
   "language": "python",
   "name": "conda-env-tf-py"
  },
  "language_info": {
   "codemirror_mode": {
    "name": "ipython",
    "version": 3
   },
   "file_extension": ".py",
   "mimetype": "text/x-python",
   "name": "python",
   "nbconvert_exporter": "python",
   "pygments_lexer": "ipython3",
   "version": "3.12.9"
  }
 },
 "nbformat": 4,
 "nbformat_minor": 5
}
